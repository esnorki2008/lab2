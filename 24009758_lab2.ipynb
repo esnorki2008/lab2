{
 "cells": [
  {
   "cell_type": "markdown",
   "id": "20174130-359c-479f-a625-d78971da12eb",
   "metadata": {},
   "source": [
    "# Problema1"
   ]
  },
  {
   "cell_type": "code",
   "execution_count": 4,
   "id": "465c6d3d-d892-4138-9a8b-e1cd9e4c74af",
   "metadata": {
    "tags": []
   },
   "outputs": [
    {
     "name": "stdout",
     "output_type": "stream",
     "text": [
      "Horas: 1, Minutos: 37, Segundos: 51\n"
     ]
    }
   ],
   "source": [
    "def Problema1(segundos):\n",
    "    horas = 0\n",
    "    minutos = 0\n",
    "    if(segundos > 3600):\n",
    "        horas = segundos // 3600\n",
    "        segundos = segundos - 3600* horas\n",
    "        \n",
    "    if(segundos > 60):\n",
    "        minutos = segundos // 60\n",
    "        segundos = segundos - 60* minutos\n",
    "    \n",
    "    print(f\"Horas: {horas}, Minutos: {minutos}, Segundos: {segundos}\")\n",
    "    \n",
    "Problema1(5871)\n",
    "        "
   ]
  },
  {
   "cell_type": "markdown",
   "id": "46cef836-b931-4eca-a73e-157470997278",
   "metadata": {},
   "source": [
    "# Problema2\n"
   ]
  },
  {
   "cell_type": "code",
   "execution_count": 14,
   "id": "5c9a54bc-5141-4ce3-b70a-42d0bac8d74d",
   "metadata": {
    "tags": []
   },
   "outputs": [
    {
     "name": "stdout",
     "output_type": "stream",
     "text": [
      "a\n",
      "aa\n",
      "aaa\n",
      "aaaa\n",
      "\n",
      "aaaa\n",
      " aaa\n",
      "  aa\n",
      "   a\n"
     ]
    }
   ],
   "source": [
    "def Problema2(num,simb):\n",
    "    for i in range(1, num + 1):\n",
    "        print(simb * i)\n",
    "    \n",
    "    print()  # Espacio entre patrones\n",
    "    \n",
    "    for i in range(num, 0, -1):\n",
    "        print(' ' * (num - i) + simb * i)\n",
    "    \n",
    "    \n",
    "Problema2(4,'a')\n",
    "    "
   ]
  },
  {
   "cell_type": "markdown",
   "id": "fd9be1d6-7aad-4be1-ba62-31921ea5f6d4",
   "metadata": {},
   "source": [
    "# Problema3"
   ]
  },
  {
   "cell_type": "code",
   "execution_count": 10,
   "id": "1f24b6ca-67b2-46ff-b2ba-fb9256a97d9f",
   "metadata": {
    "tags": []
   },
   "outputs": [
    {
     "name": "stdin",
     "output_type": "stream",
     "text": [
      "Ingrese su día de nacimiento:  4\n",
      "Ingrese su mes de nacimiento:  2\n",
      "Ingrese su año de nacimiento:  1999\n"
     ]
    },
    {
     "name": "stdout",
     "output_type": "stream",
     "text": [
      "Usted tiene 25 años, 0 meses y 27 días de edad.\n"
     ]
    }
   ],
   "source": [
    "from datetime import datetime\n",
    "\n",
    "def problema3():\n",
    "    fecha_actual = datetime.now()\n",
    "    \n",
    "    \n",
    "    dia_nac = int(input(\"Ingrese su día de nacimiento: \"))\n",
    "    mes_nac = int(input(\"Ingrese su mes de nacimiento: \"))\n",
    "    anho_nac = int(input(\"Ingrese su año de nacimiento: \"))\n",
    "\n",
    "    fecha_nacimiento = datetime(anho_nac, mes_nac, dia_nac)\n",
    "    diferencia = fecha_actual - fecha_nacimiento\n",
    "    diff_anho = diferencia.days // 365\n",
    "    diff_meses = (diferencia.days % 365) // 30\n",
    "    diff_dias = diferencia.days - diff_anho * 365 -diff_meses*30\n",
    "        \n",
    "    \n",
    "    print(f\" {diff_anho} años, {diff_meses} meses y {diff_dias} día \")\n",
    "\n",
    "\n",
    "problema3()"
   ]
  },
  {
   "cell_type": "markdown",
   "id": "9355b2c7-3f05-4072-9f7a-60553e3828bd",
   "metadata": {},
   "source": [
    "# Problema 4"
   ]
  },
  {
   "cell_type": "code",
   "execution_count": 17,
   "id": "95c3e427-ab94-4cd9-90c3-2de69a52a44f",
   "metadata": {
    "tags": []
   },
   "outputs": [
    {
     "name": "stdout",
     "output_type": "stream",
     "text": [
      "102040570\n"
     ]
    }
   ],
   "source": [
    "def problema4(entrada):\n",
    "    concatenado = ''.join(map(str, entrada))\n",
    "    print(concatenado)\n",
    "\n",
    "problema4((10, 20, 40, 5, 70))"
   ]
  },
  {
   "cell_type": "markdown",
   "id": "3192146a-e999-4bd8-be53-4a8f7072916a",
   "metadata": {},
   "source": [
    "# Problema5"
   ]
  },
  {
   "cell_type": "code",
   "execution_count": 19,
   "id": "da5dfb99-65c5-491d-a3f8-2bcdf5758e4d",
   "metadata": {
    "tags": []
   },
   "outputs": [
    {
     "name": "stdout",
     "output_type": "stream",
     "text": [
      "[('X',), ('a', 'b'), ('a', 'b', 'c'), ('d',)]\n"
     ]
    }
   ],
   "source": [
    "def problema5(entrada):\n",
    "    filtro = [tupla for tupla in entrada if tupla]\n",
    "    print(filtro)\n",
    "    \n",
    "problema5([(), (), ('X',), ('a', 'b'), ('a', 'b', 'c'), ('d',)])"
   ]
  },
  {
   "cell_type": "markdown",
   "id": "df2da0fb-bdd1-4445-97b6-3f945ccb55de",
   "metadata": {},
   "source": [
    "# Problema6"
   ]
  },
  {
   "cell_type": "code",
   "execution_count": 21,
   "id": "b34ac18a-c180-4ef1-815d-bbdfea76060b",
   "metadata": {
    "tags": []
   },
   "outputs": [
    {
     "data": {
      "text/plain": [
       "(10.5, 44.0, 58.0)"
      ]
     },
     "execution_count": 21,
     "metadata": {},
     "output_type": "execute_result"
    }
   ],
   "source": [
    "def problema6(entrada):\n",
    "    return tuple(sum(tup) / len(tup) for tup in entrada)\n",
    "\n",
    "problema6(((10, 10, 10, 12), (30, 45, 56, 45), (81, 80, 39, 32)))"
   ]
  },
  {
   "cell_type": "code",
   "execution_count": null,
   "id": "60ac97f4-2b37-40dc-889b-06bd14fbe81b",
   "metadata": {},
   "outputs": [],
   "source": []
  }
 ],
 "metadata": {
  "kernelspec": {
   "display_name": "Python 3 (ipykernel)",
   "language": "python",
   "name": "python3"
  },
  "language_info": {
   "codemirror_mode": {
    "name": "ipython",
    "version": 3
   },
   "file_extension": ".py",
   "mimetype": "text/x-python",
   "name": "python",
   "nbconvert_exporter": "python",
   "pygments_lexer": "ipython3",
   "version": "3.11.5"
  }
 },
 "nbformat": 4,
 "nbformat_minor": 5
}
